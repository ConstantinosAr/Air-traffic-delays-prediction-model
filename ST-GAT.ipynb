{
 "cells": [
  {
   "cell_type": "code",
   "execution_count": 1,
   "metadata": {},
   "outputs": [],
   "source": [
    "import pandas as pd\n",
    "import numpy as np\n",
    "import os\n",
    "import typing\n",
    "import matplotlib.pyplot as plt\n",
    "import matplotlib.dates as mdates\n",
    "from datetime import datetime, timedelta\n",
    "\n",
    "from tensorflow.keras.regularizers import l2\n",
    "\n",
    "import tensorflow as tf\n",
    "from tensorflow import keras\n",
    "from tensorflow.keras import layers\n",
    "from tensorflow.keras.preprocessing import timeseries_dataset_from_array\n",
    "from tensorflow.keras.utils import plot_model\n",
    "\n",
    "from tensorflow.keras.optimizers import Adam\n",
    "from tensorflow.keras.losses import MeanAbsoluteError, MeanSquaredError, MeanSquaredLogarithmicError\n",
    "\n",
    "from spektral.data.loaders import SingleLoader, DisjointLoader, BatchLoader\n",
    "from spektral.datasets.citation import Citation\n",
    "from spektral.layers import GATConv, DiffusionConv, GCNConv\n",
    "from spektral.transforms import LayerPreprocess\n",
    "\n",
    "from extraction.extract import *\n",
    "from extraction.extractionvalues import *\n",
    "from extraction.extractadjacency import getAdjacencyMatrix, distance_weight_adjacency\n",
    "# from extraction.adj_data import *\n",
    "\n",
    "from sklearn.metrics import mean_absolute_error, mean_squared_error\n",
    "%load_ext tensorboard\n",
    "# %tensorboard --logdir logs/fit"
   ]
  },
  {
   "cell_type": "code",
   "execution_count": 2,
   "metadata": {},
   "outputs": [
    {
     "data": {
      "text/plain": [
       "[PhysicalDevice(name='/physical_device:GPU:0', device_type='GPU')]"
      ]
     },
     "execution_count": 2,
     "metadata": {},
     "output_type": "execute_result"
    }
   ],
   "source": [
    "tf.config.list_physical_devices(\"GPU\")\n"
   ]
  },
  {
   "cell_type": "code",
   "execution_count": 16,
   "metadata": {},
   "outputs": [],
   "source": [
    "airportsFull = ICAOTOP10\n",
    "airports = airportsFull[::]\n",
    "airports.remove(\"LTFM\")  # removing the new istanbul airport as it opened mid-2019\n",
    "\n",
    "n_nodes = n_airports = len(airports)\n",
    "start = datetime(2018, 3, 1)\n",
    "end = datetime(2018, 4, 1)\n",
    "timeslotLength = 60\n",
    "\n",
    "# Run settings\n",
    "batch_size = 1\n",
    "epochs = 1200\n",
    "patience = 100\n",
    "lookback = 4\n",
    "forecast_horizon = 10\n",
    "multi_horizon = True\n",
    "\n",
    "learning_rate = 0.0001\n",
    "learning_rate = 0.0005\n",
    "# learning_rate = 0.05\n",
    "\n",
    "# runName = \"top50MSE\"\n",
    "saveModel = True\n",
    "loadModel = False\n",
    "# modelSaveFolder = \"kerasModels/\"\n",
    "# modelSaveLocation = modelSaveFolder + runName\n"
   ]
  },
  {
   "cell_type": "markdown",
   "metadata": {},
   "source": [
    "Load Data"
   ]
  },
  {
   "cell_type": "code",
   "execution_count": 17,
   "metadata": {},
   "outputs": [
    {
     "name": "stderr",
     "output_type": "stream",
     "text": [
      "100%|██████████| 9/9 [00:00<00:00, 20.79it/s]\n"
     ]
    }
   ],
   "source": [
    "dataDict = generateNNdataMultiple(\n",
    "    airports, timeslotLength, GNNFormat=True, start=start, end=end, disableWeather=True\n",
    ")\n",
    "times = list(dataDict.values())[0][\"T\"]\n"
   ]
  },
  {
   "cell_type": "code",
   "execution_count": 18,
   "metadata": {},
   "outputs": [
    {
     "name": "stdout",
     "output_type": "stream",
     "text": [
      "X Mean Shape (8,)\n",
      "Y Mean Shape (2,)\n",
      "T x N x F:  Xarray = (744, 9, 8) | Yarray = (744, 9, 2)\n"
     ]
    }
   ],
   "source": [
    "# we remove some of the most uncorrelated features\n",
    "columnsToDrop = [\n",
    "    \"weekend\",\n",
    "    \"winter\",\n",
    "    \"spring\",\n",
    "    \"summer\",\n",
    "    \"autumn\",\n",
    "    \"night\",\n",
    "    \"morning\",\n",
    "    \"afternoon\",\n",
    "    \"planes\",\n",
    "]\n",
    "\n",
    "Xlist = []\n",
    "Ylist = []\n",
    "for airport in airports:\n",
    "    # T x F\n",
    "    X = dataDict[airport][\"X\"].drop(columnsToDrop, axis=1).to_numpy()\n",
    "    Xlist.append(X)\n",
    "\n",
    "    Y = dataDict[airport][\"Y\"].iloc[:, :].to_numpy()\n",
    "    Ylist.append(Y)\n",
    "\n",
    "\n",
    "Xlist = np.stack(Xlist)\n",
    "Ylist = np.stack(Ylist)\n",
    "# N x T x F\n",
    "Xarray = np.swapaxes(Xlist, 0, 1)\n",
    "Yarray = np.swapaxes(Ylist, 0, 1)\n",
    "\n",
    "# T x N x F\n",
    "\n",
    "# Normalise over the features\n",
    "Xmean, Xstd = X.mean(axis=0), X.std(axis=0)\n",
    "X = (X - Xmean) / Xstd\n",
    "print(\"X Mean Shape\", Xmean.shape)\n",
    "Ymean, Ystd = Y.mean(axis=0), Y.std(axis=0)\n",
    "Y = (Y - Ymean) / Ystd\n",
    "print(\"Y Mean Shape\", Ymean.shape)\n",
    "\n",
    "print(\"T x N x F: \", \"Xarray =\", Xarray.shape, \"|\", \"Yarray =\", Yarray.shape)\n",
    "\n",
    "nFeatures = Xarray.shape[2]\n"
   ]
  },
  {
   "cell_type": "markdown",
   "metadata": {},
   "source": [
    "Adjacencies"
   ]
  },
  {
   "cell_type": "code",
   "execution_count": 19,
   "metadata": {},
   "outputs": [],
   "source": [
    "distance_adj = distance_weight_adjacency(airports, threshold=400)\n",
    "flight_adj = getAdjacencyMatrix(airports, start, end, timeslotLength)\n",
    "\n",
    "Aarray = distance_adj * 0.4 + (1 - 0.4) * flight_adj\n"
   ]
  },
  {
   "cell_type": "code",
   "execution_count": 20,
   "metadata": {},
   "outputs": [
    {
     "name": "stdout",
     "output_type": "stream",
     "text": [
      "Train split: 0:446 | Validation split: 446:632 | Test split: 632:744\n",
      "Train arrays len: 446 446 446\n"
     ]
    }
   ],
   "source": [
    "train_split, val_split = 0.6, 0.25\n",
    "\n",
    "fullLength = len(times)\n",
    "train_idx = int(train_split * fullLength)\n",
    "val_idx = int((val_split + train_split) * fullLength)\n",
    "print(\n",
    "    f\"Train split: {0}:{train_idx} | Validation split: {train_idx}:{val_idx} | Test split: {val_idx}:{fullLength}\"\n",
    ")\n",
    "\n",
    "# generate raw splits\n",
    "Xtrain, Xval, Xtest = Xarray[0:train_idx], Xarray[train_idx:val_idx], Xarray[val_idx::]\n",
    "Ytrain, Yval, Ytest = Yarray[0:train_idx], Yarray[train_idx:val_idx], Yarray[val_idx::]\n",
    "Atrain, Aval, Atest = Aarray[0:train_idx], Aarray[train_idx:val_idx], Aarray[val_idx::]\n",
    "\n",
    "# Save test timeslots for plotting purposes\n",
    "testTimes = times.iloc[val_idx::, 0].tolist()\n",
    "\n",
    "print(\"Train arrays len:\", len(Xtrain), len(Ytrain), len(Atrain))\n"
   ]
  },
  {
   "cell_type": "markdown",
   "metadata": {},
   "source": [
    "TF dataset"
   ]
  },
  {
   "cell_type": "code",
   "execution_count": 21,
   "metadata": {},
   "outputs": [
    {
     "name": "stdout",
     "output_type": "stream",
     "text": [
      "<CacheDataset shapes: (((None, None, 9, 8), (None, None, 9, 9)), (None, None, 9, 2)), types: ((tf.float64, tf.float64), tf.float64)>\n"
     ]
    }
   ],
   "source": [
    "def create_tf_dataset(\n",
    "    features_Array: np.ndarray,\n",
    "    adjacencies_Array: np.ndarray,\n",
    "    target_array,\n",
    "    lookback: int,\n",
    "    forecast_horizon: int,\n",
    "    batch_size: int = 128,\n",
    "    multi_horizon=False,\n",
    "):\n",
    "\n",
    "    X_in = timeseries_dataset_from_array(\n",
    "        features_Array[:-forecast_horizon],\n",
    "        None,\n",
    "        sequence_length=lookback,\n",
    "        shuffle=False,\n",
    "        batch_size=batch_size,\n",
    "    )\n",
    "    A_in = timeseries_dataset_from_array(\n",
    "        adjacencies_Array[:-forecast_horizon],\n",
    "        None,\n",
    "        sequence_length=lookback,\n",
    "        shuffle=False,\n",
    "        batch_size=batch_size,\n",
    "    )\n",
    "\n",
    "    target_offset = lookback if multi_horizon else lookback + forecast_horizon - 1\n",
    "    target_seq_length = forecast_horizon if multi_horizon else 1\n",
    "   \n",
    "    targets = timeseries_dataset_from_array(\n",
    "        target_array[target_offset:],\n",
    "        None,\n",
    "        sequence_length=target_seq_length,\n",
    "        shuffle=False,\n",
    "        batch_size=batch_size,\n",
    "    )\n",
    "    # dataset = tf.data.Dataset.zip((X_in, A_in))\n",
    "    dataset = tf.data.Dataset.zip(((X_in, A_in), targets))\n",
    "    return dataset.prefetch(16).cache()\n",
    "\n",
    "\n",
    "train_dataset = create_tf_dataset(\n",
    "    Xtrain,\n",
    "    Atrain,\n",
    "    Ytrain,\n",
    "    lookback,\n",
    "    forecast_horizon,\n",
    "    batch_size=batch_size,\n",
    "    multi_horizon=multi_horizon,\n",
    ")\n",
    "\n",
    "val_dataset = create_tf_dataset(\n",
    "    Xval,\n",
    "    Aval,\n",
    "    Yval,\n",
    "    lookback,\n",
    "    forecast_horizon,\n",
    "    batch_size=batch_size,\n",
    "    multi_horizon=multi_horizon,\n",
    ")\n",
    "test_dataset = create_tf_dataset(\n",
    "    Xtest,\n",
    "    Atest,\n",
    "    Ytest,\n",
    "    lookback,\n",
    "    forecast_horizon,\n",
    "    batch_size=batch_size,\n",
    "    multi_horizon=multi_horizon,\n",
    ")\n",
    "\n",
    "print(train_dataset)\n"
   ]
  },
  {
   "cell_type": "markdown",
   "metadata": {},
   "source": [
    "Model"
   ]
  },
  {
   "cell_type": "code",
   "execution_count": 22,
   "metadata": {},
   "outputs": [],
   "source": [
    "# lookback = 8 # steps\n",
    "l2_reg = 2.5e-4  # L2 regularization rate\n",
    "# learning_rate = 2e-4  # Learning rate\n",
    "\n",
    "channels = 10\n",
    "attn_heads = 2\n",
    "lstm_units = 20\n",
    "\n",
    "num_labels = 2\n"
   ]
  },
  {
   "cell_type": "code",
   "execution_count": 23,
   "metadata": {},
   "outputs": [
    {
     "name": "stdout",
     "output_type": "stream",
     "text": [
      "Lookback = 4\n",
      "(1, 9, 8)\n",
      "(1, 9, 9)\n",
      "(1, 9, 80)\n",
      "(1, 9, 20, 4)\n",
      "(9, 4, 20)\n",
      "(9, 20)\n",
      "(9, 20)\n",
      "(9, 20)\n",
      "(9, 1, 10, 2)\n",
      "(1, 10, 9, 2)\n"
     ]
    }
   ],
   "source": [
    "x_in = layers.Input(shape=(lookback, n_nodes, nFeatures), batch_size=batch_size, name=\"Features\")\n",
    "a_in = layers.Input(shape=(lookback, n_nodes, n_nodes), batch_size=batch_size, name=\"Adjacencies\")\n",
    "\n",
    "# print(x_in.shape)\n",
    "branch_outputs = []\n",
    "print(f\"Lookback = {lookback}\")\n",
    "for i in range(lookback):\n",
    "    Xindividual = layers.Lambda(lambda x: x[:, i], name=f\"X_{i}\")(x_in)\n",
    "    Aindividual = layers.Lambda(lambda x: x[:, i], name=f\"A_{i}\")(a_in)\n",
    "    out = GATConv(\n",
    "        channels=channels,\n",
    "        attn_heads=attn_heads,\n",
    "        kernel_regularizer=l2(l2_reg),\n",
    "        attn_kernel_regularizer=l2(l2_reg),\n",
    "        bias_regularizer=l2(l2_reg),\n",
    "        name=f\"GAT_{i}\"\n",
    "    )([Xindividual, Aindividual])\n",
    "\n",
    "    branch_outputs.append(out)\n",
    "    # print(out.shape)\n",
    "\n",
    "\n",
    "print(Xindividual.shape)\n",
    "print(Aindividual.shape)\n",
    "concat = layers.Concatenate()(branch_outputs)\n",
    "print(concat.shape)\n",
    "reshape1 = tf.reshape(concat, (batch_size, n_nodes, channels * attn_heads, lookback), name=\"Reshape1\")\n",
    "print(reshape1.shape)\n",
    "reshape2 = tf.reshape(reshape1, (batch_size * n_nodes, channels * attn_heads, lookback), name=\"Reshape2\")\n",
    "reshape2 = tf.transpose(reshape2, [0, 2, 1], name=\"TransposetoLSTM\")\n",
    "print(reshape2.shape)\n",
    "\n",
    "lstm1 = layers.LSTM(lstm_units, return_sequences=True, name=\"LSTM1\")(reshape2)\n",
    "lstm2 = layers.LSTM(lstm_units, return_sequences=False, name=\"LSTM2\")(lstm1)\n",
    "print(lstm2.shape)\n",
    "dense1 = layers.Dense(lstm_units, name=\"Dense1\")(lstm2)\n",
    "print(dense1.shape)\n",
    "dense2 = layers.Dense(num_labels * forecast_horizon, name=\"DenseFinal\")(dense1)\n",
    "print(dense2.shape)\n",
    "\n",
    "output = tf.reshape(dense2, (n_nodes, batch_size, forecast_horizon, num_labels), name=\"ReshapeFinal\")\n",
    "print(output.shape)\n",
    "output = tf.transpose(output, [1, 2, 0, 3], name=\"Re-orderToOutput\")\n",
    "print(output.shape)\n",
    "\n",
    "\n",
    "\n",
    "# # Test \n",
    "# print(\"hello\")\n",
    "# output2 = layers.Dense(128)(reshape1)\n",
    "# print(output2.shape)\n",
    "# output2 = layers.Dense(1)(output2)\n",
    "# print(output2.shape)\n",
    "# output = tf.reshape(output2, (n_nodes, batch_size, forecast_horizon, num_labels), name=\"ReshapeFinal\")\n",
    "# print(output.shape)\n",
    "# output = tf.transpose(output, [1, 2, 0, 3], name=\"Re-orderToOutput\")\n",
    "# print(output.shape)"
   ]
  },
  {
   "cell_type": "code",
   "execution_count": 24,
   "metadata": {},
   "outputs": [
    {
     "name": "stdout",
     "output_type": "stream",
     "text": [
      "Model: \"Tristan\"\n",
      "__________________________________________________________________________________________________\n",
      " Layer (type)                   Output Shape         Param #     Connected to                     \n",
      "==================================================================================================\n",
      " Features (InputLayer)          [(1, 4, 9, 8)]       0           []                               \n",
      "                                                                                                  \n",
      " Adjacencies (InputLayer)       [(1, 4, 9, 9)]       0           []                               \n",
      "                                                                                                  \n",
      " X_0 (Lambda)                   (1, 9, 8)            0           ['Features[0][0]']               \n",
      "                                                                                                  \n",
      " A_0 (Lambda)                   (1, 9, 9)            0           ['Adjacencies[0][0]']            \n",
      "                                                                                                  \n",
      " X_1 (Lambda)                   (1, 9, 8)            0           ['Features[0][0]']               \n",
      "                                                                                                  \n",
      " A_1 (Lambda)                   (1, 9, 9)            0           ['Adjacencies[0][0]']            \n",
      "                                                                                                  \n",
      " X_2 (Lambda)                   (1, 9, 8)            0           ['Features[0][0]']               \n",
      "                                                                                                  \n",
      " A_2 (Lambda)                   (1, 9, 9)            0           ['Adjacencies[0][0]']            \n",
      "                                                                                                  \n",
      " X_3 (Lambda)                   (1, 9, 8)            0           ['Features[0][0]']               \n",
      "                                                                                                  \n",
      " A_3 (Lambda)                   (1, 9, 9)            0           ['Adjacencies[0][0]']            \n",
      "                                                                                                  \n",
      " GAT_0 (GATConv)                (1, 9, 20)           220         ['X_0[0][0]',                    \n",
      "                                                                  'A_0[0][0]']                    \n",
      "                                                                                                  \n",
      " GAT_1 (GATConv)                (1, 9, 20)           220         ['X_1[0][0]',                    \n",
      "                                                                  'A_1[0][0]']                    \n",
      "                                                                                                  \n",
      " GAT_2 (GATConv)                (1, 9, 20)           220         ['X_2[0][0]',                    \n",
      "                                                                  'A_2[0][0]']                    \n",
      "                                                                                                  \n",
      " GAT_3 (GATConv)                (1, 9, 20)           220         ['X_3[0][0]',                    \n",
      "                                                                  'A_3[0][0]']                    \n",
      "                                                                                                  \n",
      " concatenate_1 (Concatenate)    (1, 9, 80)           0           ['GAT_0[0][0]',                  \n",
      "                                                                  'GAT_1[0][0]',                  \n",
      "                                                                  'GAT_2[0][0]',                  \n",
      "                                                                  'GAT_3[0][0]']                  \n",
      "                                                                                                  \n",
      " tf.reshape_3 (TFOpLambda)      (1, 9, 20, 4)        0           ['concatenate_1[0][0]']          \n",
      "                                                                                                  \n",
      " tf.reshape_4 (TFOpLambda)      (9, 20, 4)           0           ['tf.reshape_3[0][0]']           \n",
      "                                                                                                  \n",
      " tf.compat.v1.transpose_2 (TFOp  (9, 4, 20)          0           ['tf.reshape_4[0][0]']           \n",
      " Lambda)                                                                                          \n",
      "                                                                                                  \n",
      " LSTM1 (LSTM)                   (9, 4, 20)           3280        ['tf.compat.v1.transpose_2[0][0]'\n",
      "                                                                 ]                                \n",
      "                                                                                                  \n",
      " LSTM2 (LSTM)                   (9, 20)              3280        ['LSTM1[0][0]']                  \n",
      "                                                                                                  \n",
      " Dense1 (Dense)                 (9, 20)              420         ['LSTM2[0][0]']                  \n",
      "                                                                                                  \n",
      " DenseFinal (Dense)             (9, 20)              420         ['Dense1[0][0]']                 \n",
      "                                                                                                  \n",
      " tf.reshape_5 (TFOpLambda)      (9, 1, 10, 2)        0           ['DenseFinal[0][0]']             \n",
      "                                                                                                  \n",
      " tf.compat.v1.transpose_3 (TFOp  (1, 10, 9, 2)       0           ['tf.reshape_5[0][0]']           \n",
      " Lambda)                                                                                          \n",
      "                                                                                                  \n",
      "==================================================================================================\n",
      "Total params: 8,280\n",
      "Trainable params: 8,280\n",
      "Non-trainable params: 0\n",
      "__________________________________________________________________________________________________\n"
     ]
    }
   ],
   "source": [
    "model = keras.Model(inputs=[x_in, a_in], outputs=output, name=\"Tristan\")\n",
    "\n",
    "optimizer = Adam(learning_rate=learning_rate)\n",
    "model.compile(\n",
    "    optimizer=optimizer,\n",
    "    loss=MeanSquaredError(reduction=\"auto\", name=\"mean_absolute_error\"),\n",
    "    weighted_metrics=[\"acc\"],\n",
    ")\n",
    "\n",
    "model.summary()\n",
    "# plot_model(model, to_file='model.png')"
   ]
  },
  {
   "cell_type": "code",
   "execution_count": 29,
   "metadata": {},
   "outputs": [
    {
     "name": "stdout",
     "output_type": "stream",
     "text": [
      "((TensorSpec(shape=(None, None, 9, 8), dtype=tf.float64, name=None), TensorSpec(shape=(None, None, 9, 9), dtype=tf.float64, name=None)), TensorSpec(shape=(None, None, 9, 2), dtype=tf.float64, name=None))\n",
      "Epoch 1/50\n",
      "433/433 [==============================] - 14s 31ms/step - loss: 70.1064 - acc: 0.6024 - val_loss: 53.4714 - val_acc: 0.5714\n",
      "Epoch 2/50\n",
      "433/433 [==============================] - 12s 28ms/step - loss: 70.1672 - acc: 0.6024 - val_loss: 53.4520 - val_acc: 0.5714\n",
      "Epoch 3/50\n",
      "433/433 [==============================] - 9s 22ms/step - loss: 70.0848 - acc: 0.6024 - val_loss: 52.6452 - val_acc: 0.5714\n",
      "Epoch 4/50\n",
      "433/433 [==============================] - 8s 18ms/step - loss: 70.0875 - acc: 0.6024 - val_loss: 53.5567 - val_acc: 0.5714\n",
      "Epoch 5/50\n",
      "433/433 [==============================] - 9s 20ms/step - loss: 69.8214 - acc: 0.6024 - val_loss: 52.8589 - val_acc: 0.5714\n",
      "Epoch 6/50\n",
      "433/433 [==============================] - 8s 19ms/step - loss: 69.8781 - acc: 0.6024 - val_loss: 52.7355 - val_acc: 0.5714\n",
      "Epoch 7/50\n",
      "433/433 [==============================] - 8s 19ms/step - loss: 69.8560 - acc: 0.6024 - val_loss: 52.4736 - val_acc: 0.5714\n",
      "Epoch 8/50\n",
      "433/433 [==============================] - 8s 19ms/step - loss: 69.7172 - acc: 0.6024 - val_loss: 52.6447 - val_acc: 0.5714\n",
      "Epoch 9/50\n",
      "433/433 [==============================] - 8s 19ms/step - loss: 69.5373 - acc: 0.6024 - val_loss: 52.8538 - val_acc: 0.5714\n",
      "Epoch 10/50\n",
      "433/433 [==============================] - 9s 21ms/step - loss: 69.6071 - acc: 0.6023 - val_loss: 52.6975 - val_acc: 0.5714\n",
      "Epoch 11/50\n",
      "433/433 [==============================] - 8s 19ms/step - loss: 69.4523 - acc: 0.6023 - val_loss: 52.5874 - val_acc: 0.5714\n",
      "Epoch 12/50\n",
      "433/433 [==============================] - 8s 19ms/step - loss: 69.3740 - acc: 0.6020 - val_loss: 52.3998 - val_acc: 0.5714\n",
      "Epoch 13/50\n",
      "433/433 [==============================] - 8s 18ms/step - loss: 69.2112 - acc: 0.6018 - val_loss: 52.5756 - val_acc: 0.5714\n",
      "Epoch 14/50\n",
      "433/433 [==============================] - 8s 18ms/step - loss: 69.3448 - acc: 0.6020 - val_loss: 52.5915 - val_acc: 0.5715\n",
      "Epoch 15/50\n",
      "433/433 [==============================] - 8s 19ms/step - loss: 69.1602 - acc: 0.6026 - val_loss: 52.7600 - val_acc: 0.5719\n",
      "Epoch 16/50\n",
      "433/433 [==============================] - 8s 19ms/step - loss: 69.2900 - acc: 0.6026 - val_loss: 52.6233 - val_acc: 0.5719\n",
      "Epoch 17/50\n",
      "433/433 [==============================] - 8s 19ms/step - loss: 69.2875 - acc: 0.6026 - val_loss: 52.7844 - val_acc: 0.5715\n",
      "Epoch 18/50\n",
      "433/433 [==============================] - 10s 23ms/step - loss: 69.1262 - acc: 0.6021 - val_loss: 53.2321 - val_acc: 0.5715\n",
      "Epoch 19/50\n",
      "433/433 [==============================] - 8s 18ms/step - loss: 69.0855 - acc: 0.6016 - val_loss: 52.5594 - val_acc: 0.5715\n",
      "Epoch 20/50\n",
      "433/433 [==============================] - 8s 18ms/step - loss: 69.0848 - acc: 0.6003 - val_loss: 52.1828 - val_acc: 0.5715\n",
      "Epoch 21/50\n",
      "433/433 [==============================] - 8s 19ms/step - loss: 69.1880 - acc: 0.6008 - val_loss: 52.2519 - val_acc: 0.5715\n",
      "Epoch 22/50\n",
      "433/433 [==============================] - 8s 18ms/step - loss: 69.1192 - acc: 0.5998 - val_loss: 51.8542 - val_acc: 0.5715\n",
      "Epoch 23/50\n",
      "433/433 [==============================] - 8s 19ms/step - loss: 69.0879 - acc: 0.6004 - val_loss: 52.0202 - val_acc: 0.5714\n",
      "Epoch 24/50\n",
      "433/433 [==============================] - 8s 19ms/step - loss: 69.1876 - acc: 0.5999 - val_loss: 51.9830 - val_acc: 0.5714\n",
      "Epoch 25/50\n",
      "433/433 [==============================] - 8s 18ms/step - loss: 69.0738 - acc: 0.6018 - val_loss: 51.9002 - val_acc: 0.5714\n",
      "Epoch 26/50\n",
      "433/433 [==============================] - 8s 19ms/step - loss: 68.9777 - acc: 0.6004 - val_loss: 51.7722 - val_acc: 0.5714\n",
      "Epoch 27/50\n",
      "433/433 [==============================] - 8s 18ms/step - loss: 69.0579 - acc: 0.6012 - val_loss: 51.9356 - val_acc: 0.5714\n",
      "Epoch 28/50\n",
      "433/433 [==============================] - 8s 18ms/step - loss: 68.9315 - acc: 0.5999 - val_loss: 52.0389 - val_acc: 0.5714\n",
      "Epoch 29/50\n",
      "433/433 [==============================] - 7s 17ms/step - loss: 68.9952 - acc: 0.6004 - val_loss: 51.6649 - val_acc: 0.5714\n",
      "Epoch 30/50\n",
      "433/433 [==============================] - 7s 17ms/step - loss: 69.0205 - acc: 0.6017 - val_loss: 51.4818 - val_acc: 0.5714\n",
      "Epoch 31/50\n",
      "433/433 [==============================] - 7s 17ms/step - loss: 68.9743 - acc: 0.6011 - val_loss: 51.6243 - val_acc: 0.5714\n",
      "Epoch 32/50\n",
      "433/433 [==============================] - 7s 17ms/step - loss: 68.7673 - acc: 0.6014 - val_loss: 51.7958 - val_acc: 0.5717\n",
      "Epoch 33/50\n",
      "433/433 [==============================] - 7s 17ms/step - loss: 68.6984 - acc: 0.6015 - val_loss: 51.5209 - val_acc: 0.5715\n",
      "Epoch 34/50\n",
      "433/433 [==============================] - 8s 17ms/step - loss: 68.7364 - acc: 0.6023 - val_loss: 51.3023 - val_acc: 0.5714\n",
      "Epoch 35/50\n",
      "433/433 [==============================] - 7s 17ms/step - loss: 68.6332 - acc: 0.6026 - val_loss: 51.2256 - val_acc: 0.5714\n",
      "Epoch 36/50\n",
      "433/433 [==============================] - 7s 17ms/step - loss: 68.7279 - acc: 0.6022 - val_loss: 51.3629 - val_acc: 0.5714\n",
      "Epoch 37/50\n",
      "433/433 [==============================] - 7s 17ms/step - loss: 68.4968 - acc: 0.6023 - val_loss: 51.2025 - val_acc: 0.5714\n",
      "Epoch 38/50\n",
      "433/433 [==============================] - 7s 17ms/step - loss: 68.4817 - acc: 0.6027 - val_loss: 51.3616 - val_acc: 0.5714\n",
      "Epoch 39/50\n",
      "433/433 [==============================] - 7s 17ms/step - loss: 68.5865 - acc: 0.6032 - val_loss: 51.5547 - val_acc: 0.5712\n",
      "Epoch 40/50\n",
      "433/433 [==============================] - 7s 17ms/step - loss: 68.3618 - acc: 0.6028 - val_loss: 51.7564 - val_acc: 0.5717\n",
      "Epoch 41/50\n",
      "433/433 [==============================] - 8s 17ms/step - loss: 68.3805 - acc: 0.6027 - val_loss: 51.6053 - val_acc: 0.5735\n",
      "Epoch 42/50\n",
      "433/433 [==============================] - 7s 17ms/step - loss: 68.4097 - acc: 0.6029 - val_loss: 51.6357 - val_acc: 0.5714\n",
      "Epoch 43/50\n",
      "433/433 [==============================] - 7s 17ms/step - loss: 68.3041 - acc: 0.6030 - val_loss: 51.1913 - val_acc: 0.5715\n",
      "Epoch 44/50\n",
      "433/433 [==============================] - 7s 17ms/step - loss: 68.2413 - acc: 0.6031 - val_loss: 51.1970 - val_acc: 0.5716\n",
      "Epoch 45/50\n",
      "433/433 [==============================] - 8s 19ms/step - loss: 68.0595 - acc: 0.6026 - val_loss: 51.3230 - val_acc: 0.5717\n",
      "Epoch 46/50\n",
      "433/433 [==============================] - 7s 17ms/step - loss: 68.0295 - acc: 0.6034 - val_loss: 51.0227 - val_acc: 0.5718\n",
      "Epoch 47/50\n",
      "433/433 [==============================] - 7s 17ms/step - loss: 67.8765 - acc: 0.6029 - val_loss: 50.8766 - val_acc: 0.5715\n",
      "Epoch 48/50\n",
      "433/433 [==============================] - 7s 17ms/step - loss: 67.9089 - acc: 0.6028 - val_loss: 50.6185 - val_acc: 0.5719\n",
      "Epoch 49/50\n",
      "433/433 [==============================] - 7s 17ms/step - loss: 67.8958 - acc: 0.6030 - val_loss: 50.8278 - val_acc: 0.5713\n",
      "Epoch 50/50\n",
      "433/433 [==============================] - 7s 17ms/step - loss: 67.8499 - acc: 0.6028 - val_loss: 50.5965 - val_acc: 0.5715\n"
     ]
    }
   ],
   "source": [
    "log_dir = \"logs/fit/\" + datetime.now().strftime(\"%Y%m%d-%H%M%S\")\n",
    "tensorboard_callback = tf.keras.callbacks.TensorBoard(\n",
    "    log_dir=log_dir, histogram_freq=1\n",
    ")\n",
    "\n",
    "print(train_dataset.element_spec)\n",
    "\n",
    "history = model.fit(\n",
    "    # x = [train_dataset[0], train_dataset[1]],\n",
    "    # y = train_dataset[2],\n",
    "    train_dataset,\n",
    "    validation_data=val_dataset,\n",
    "    epochs=50,\n",
    "    callbacks=[\n",
    "        keras.callbacks.EarlyStopping(patience=patience),\n",
    "        tensorboard_callback,\n",
    "    ],\n",
    ")"
   ]
  },
  {
   "cell_type": "markdown",
   "metadata": {},
   "source": [
    "# Analysis\n"
   ]
  },
  {
   "cell_type": "code",
   "execution_count": 26,
   "metadata": {},
   "outputs": [
    {
     "data": {
      "image/png": "[encoded data removed]",
      "text/plain": [
       "<Figure size 432x288 with 1 Axes>"
      ]
     },
     "metadata": {},
     "output_type": "display_data"
    }
   ],
   "source": [
    "plt.plot(history.history[\"loss\"], label=\"Train Loss\")\n",
    "plt.plot(history.history[\"val_loss\"], label=\"Validation Loss\")\n",
    "plt.legend()\n",
    "plt.show()"
   ]
  },
  {
   "cell_type": "code",
   "execution_count": 27,
   "metadata": {},
   "outputs": [
    {
     "name": "stdout",
     "output_type": "stream",
     "text": [
      "Hours ahead = 10\n"
     ]
    }
   ],
   "source": [
    "windowSize = 100 # 1-400\n",
    "hour = 10 # 1-10\n",
    "hour = min(hour, forecast_horizon)\n",
    "print(f\"Hours ahead = {hour}\")\n"
   ]
  },
  {
   "cell_type": "code",
   "execution_count": 28,
   "metadata": {},
   "outputs": [
    {
     "ename": "ValueError",
     "evalue": "Found input variables with inconsistent numbers of samples: [99, 100]",
     "output_type": "error",
     "traceback": [
      "\u001b[1;31m---------------------------------------------------------------------------\u001b[0m",
      "\u001b[1;31mValueError\u001b[0m                                Traceback (most recent call last)",
      "\u001b[1;32m~\\AppData\\Local\\Temp/ipykernel_3908/3181657806.py\u001b[0m in \u001b[0;36m<module>\u001b[1;34m\u001b[0m\n\u001b[0;32m     50\u001b[0m \u001b[1;33m\u001b[0m\u001b[0m\n\u001b[0;32m     51\u001b[0m \u001b[1;33m\u001b[0m\u001b[0m\n\u001b[1;32m---> 52\u001b[1;33m \u001b[0mplotMAEOverTime\u001b[0m\u001b[1;33m(\u001b[0m\u001b[1;33m)\u001b[0m\u001b[1;33m\u001b[0m\u001b[1;33m\u001b[0m\u001b[0m\n\u001b[0m\u001b[0;32m     53\u001b[0m \u001b[0mplt\u001b[0m\u001b[1;33m.\u001b[0m\u001b[0mshow\u001b[0m\u001b[1;33m(\u001b[0m\u001b[1;33m)\u001b[0m\u001b[1;33m\u001b[0m\u001b[1;33m\u001b[0m\u001b[0m\n\u001b[0;32m     54\u001b[0m \u001b[1;33m\u001b[0m\u001b[0m\n",
      "\u001b[1;32m~\\AppData\\Local\\Temp/ipykernel_3908/3181657806.py\u001b[0m in \u001b[0;36mplotMAEOverTime\u001b[1;34m(forecast_horizon)\u001b[0m\n\u001b[0;32m     41\u001b[0m     \u001b[0mmaeList2\u001b[0m \u001b[1;33m=\u001b[0m \u001b[1;33m[\u001b[0m\u001b[1;33m]\u001b[0m\u001b[1;33m\u001b[0m\u001b[1;33m\u001b[0m\u001b[0m\n\u001b[0;32m     42\u001b[0m     \u001b[1;32mfor\u001b[0m \u001b[0mh\u001b[0m \u001b[1;32min\u001b[0m \u001b[0mhours\u001b[0m\u001b[1;33m:\u001b[0m\u001b[1;33m\u001b[0m\u001b[1;33m\u001b[0m\u001b[0m\n\u001b[1;32m---> 43\u001b[1;33m         \u001b[0m_\u001b[0m\u001b[1;33m,\u001b[0m \u001b[0m_\u001b[0m\u001b[1;33m,\u001b[0m \u001b[0mmae1\u001b[0m\u001b[1;33m,\u001b[0m \u001b[0mmae2\u001b[0m\u001b[1;33m,\u001b[0m \u001b[0m_\u001b[0m \u001b[1;33m=\u001b[0m \u001b[0mgetLabelArrays\u001b[0m\u001b[1;33m(\u001b[0m\u001b[0mh\u001b[0m\u001b[1;33m)\u001b[0m\u001b[1;33m\u001b[0m\u001b[1;33m\u001b[0m\u001b[0m\n\u001b[0m\u001b[0;32m     44\u001b[0m         \u001b[0mmaeList\u001b[0m\u001b[1;33m.\u001b[0m\u001b[0mappend\u001b[0m\u001b[1;33m(\u001b[0m\u001b[0mmae1\u001b[0m\u001b[1;33m)\u001b[0m\u001b[1;33m\u001b[0m\u001b[1;33m\u001b[0m\u001b[0m\n\u001b[0;32m     45\u001b[0m         \u001b[0mmaeList2\u001b[0m\u001b[1;33m.\u001b[0m\u001b[0mappend\u001b[0m\u001b[1;33m(\u001b[0m\u001b[0mmae2\u001b[0m\u001b[1;33m)\u001b[0m\u001b[1;33m\u001b[0m\u001b[1;33m\u001b[0m\u001b[0m\n",
      "\u001b[1;32m~\\AppData\\Local\\Temp/ipykernel_3908/3181657806.py\u001b[0m in \u001b[0;36mgetLabelArrays\u001b[1;34m(hour, input_sequence_length)\u001b[0m\n\u001b[0;32m      5\u001b[0m     \u001b[0myactualFull\u001b[0m \u001b[1;33m=\u001b[0m \u001b[0mYtest\u001b[0m\u001b[1;33m[\u001b[0m\u001b[0msyncindex\u001b[0m \u001b[1;33m:\u001b[0m \u001b[0mwindowSize\u001b[0m \u001b[1;33m+\u001b[0m \u001b[0msyncindex\u001b[0m \u001b[1;33m:\u001b[0m\u001b[1;33m,\u001b[0m \u001b[1;33m:\u001b[0m\u001b[1;33m]\u001b[0m\u001b[1;33m\u001b[0m\u001b[1;33m\u001b[0m\u001b[0m\n\u001b[0;32m      6\u001b[0m \u001b[1;33m\u001b[0m\u001b[0m\n\u001b[1;32m----> 7\u001b[1;33m     \u001b[0mmae1\u001b[0m \u001b[1;33m=\u001b[0m \u001b[0mmean_absolute_error\u001b[0m\u001b[1;33m(\u001b[0m\u001b[0mypredFull\u001b[0m\u001b[1;33m[\u001b[0m\u001b[1;33m:\u001b[0m\u001b[1;33m,\u001b[0m \u001b[1;33m:\u001b[0m\u001b[1;33m,\u001b[0m \u001b[1;36m0\u001b[0m\u001b[1;33m]\u001b[0m\u001b[1;33m,\u001b[0m \u001b[0myactualFull\u001b[0m\u001b[1;33m[\u001b[0m\u001b[1;33m:\u001b[0m\u001b[1;33m,\u001b[0m \u001b[1;33m:\u001b[0m\u001b[1;33m,\u001b[0m \u001b[1;36m0\u001b[0m\u001b[1;33m]\u001b[0m\u001b[1;33m)\u001b[0m\u001b[1;33m\u001b[0m\u001b[1;33m\u001b[0m\u001b[0m\n\u001b[0m\u001b[0;32m      8\u001b[0m     \u001b[0mmae2\u001b[0m \u001b[1;33m=\u001b[0m \u001b[0mmean_absolute_error\u001b[0m\u001b[1;33m(\u001b[0m\u001b[0mypredFull\u001b[0m\u001b[1;33m[\u001b[0m\u001b[1;33m:\u001b[0m\u001b[1;33m,\u001b[0m \u001b[1;33m:\u001b[0m\u001b[1;33m,\u001b[0m \u001b[1;36m1\u001b[0m\u001b[1;33m]\u001b[0m\u001b[1;33m,\u001b[0m \u001b[0myactualFull\u001b[0m\u001b[1;33m[\u001b[0m\u001b[1;33m:\u001b[0m\u001b[1;33m,\u001b[0m \u001b[1;33m:\u001b[0m\u001b[1;33m,\u001b[0m \u001b[1;36m1\u001b[0m\u001b[1;33m]\u001b[0m\u001b[1;33m)\u001b[0m\u001b[1;33m\u001b[0m\u001b[1;33m\u001b[0m\u001b[0m\n\u001b[0;32m      9\u001b[0m \u001b[1;33m\u001b[0m\u001b[0m\n",
      "\u001b[1;32m~\\AppData\\Local\\Programs\\Python\\Python39\\lib\\site-packages\\sklearn\\metrics\\_regression.py\u001b[0m in \u001b[0;36mmean_absolute_error\u001b[1;34m(y_true, y_pred, sample_weight, multioutput)\u001b[0m\n\u001b[0;32m    184\u001b[0m     \u001b[1;36m0.85\u001b[0m\u001b[1;33m...\u001b[0m\u001b[1;33m\u001b[0m\u001b[1;33m\u001b[0m\u001b[0m\n\u001b[0;32m    185\u001b[0m     \"\"\"\n\u001b[1;32m--> 186\u001b[1;33m     y_type, y_true, y_pred, multioutput = _check_reg_targets(\n\u001b[0m\u001b[0;32m    187\u001b[0m         \u001b[0my_true\u001b[0m\u001b[1;33m,\u001b[0m \u001b[0my_pred\u001b[0m\u001b[1;33m,\u001b[0m \u001b[0mmultioutput\u001b[0m\u001b[1;33m\u001b[0m\u001b[1;33m\u001b[0m\u001b[0m\n\u001b[0;32m    188\u001b[0m     )\n",
      "\u001b[1;32m~\\AppData\\Local\\Programs\\Python\\Python39\\lib\\site-packages\\sklearn\\metrics\\_regression.py\u001b[0m in \u001b[0;36m_check_reg_targets\u001b[1;34m(y_true, y_pred, multioutput, dtype)\u001b[0m\n\u001b[0;32m     87\u001b[0m         \u001b[0mthe\u001b[0m \u001b[0mdtype\u001b[0m \u001b[0margument\u001b[0m \u001b[0mpassed\u001b[0m \u001b[0mto\u001b[0m \u001b[0mcheck_array\u001b[0m\u001b[1;33m.\u001b[0m\u001b[1;33m\u001b[0m\u001b[1;33m\u001b[0m\u001b[0m\n\u001b[0;32m     88\u001b[0m     \"\"\"\n\u001b[1;32m---> 89\u001b[1;33m     \u001b[0mcheck_consistent_length\u001b[0m\u001b[1;33m(\u001b[0m\u001b[0my_true\u001b[0m\u001b[1;33m,\u001b[0m \u001b[0my_pred\u001b[0m\u001b[1;33m)\u001b[0m\u001b[1;33m\u001b[0m\u001b[1;33m\u001b[0m\u001b[0m\n\u001b[0m\u001b[0;32m     90\u001b[0m     \u001b[0my_true\u001b[0m \u001b[1;33m=\u001b[0m \u001b[0mcheck_array\u001b[0m\u001b[1;33m(\u001b[0m\u001b[0my_true\u001b[0m\u001b[1;33m,\u001b[0m \u001b[0mensure_2d\u001b[0m\u001b[1;33m=\u001b[0m\u001b[1;32mFalse\u001b[0m\u001b[1;33m,\u001b[0m \u001b[0mdtype\u001b[0m\u001b[1;33m=\u001b[0m\u001b[0mdtype\u001b[0m\u001b[1;33m)\u001b[0m\u001b[1;33m\u001b[0m\u001b[1;33m\u001b[0m\u001b[0m\n\u001b[0;32m     91\u001b[0m     \u001b[0my_pred\u001b[0m \u001b[1;33m=\u001b[0m \u001b[0mcheck_array\u001b[0m\u001b[1;33m(\u001b[0m\u001b[0my_pred\u001b[0m\u001b[1;33m,\u001b[0m \u001b[0mensure_2d\u001b[0m\u001b[1;33m=\u001b[0m\u001b[1;32mFalse\u001b[0m\u001b[1;33m,\u001b[0m \u001b[0mdtype\u001b[0m\u001b[1;33m=\u001b[0m\u001b[0mdtype\u001b[0m\u001b[1;33m)\u001b[0m\u001b[1;33m\u001b[0m\u001b[1;33m\u001b[0m\u001b[0m\n",
      "\u001b[1;32m~\\AppData\\Local\\Programs\\Python\\Python39\\lib\\site-packages\\sklearn\\utils\\validation.py\u001b[0m in \u001b[0;36mcheck_consistent_length\u001b[1;34m(*arrays)\u001b[0m\n\u001b[0;32m    329\u001b[0m     \u001b[0muniques\u001b[0m \u001b[1;33m=\u001b[0m \u001b[0mnp\u001b[0m\u001b[1;33m.\u001b[0m\u001b[0munique\u001b[0m\u001b[1;33m(\u001b[0m\u001b[0mlengths\u001b[0m\u001b[1;33m)\u001b[0m\u001b[1;33m\u001b[0m\u001b[1;33m\u001b[0m\u001b[0m\n\u001b[0;32m    330\u001b[0m     \u001b[1;32mif\u001b[0m \u001b[0mlen\u001b[0m\u001b[1;33m(\u001b[0m\u001b[0muniques\u001b[0m\u001b[1;33m)\u001b[0m \u001b[1;33m>\u001b[0m \u001b[1;36m1\u001b[0m\u001b[1;33m:\u001b[0m\u001b[1;33m\u001b[0m\u001b[1;33m\u001b[0m\u001b[0m\n\u001b[1;32m--> 331\u001b[1;33m         raise ValueError(\n\u001b[0m\u001b[0;32m    332\u001b[0m             \u001b[1;34m\"Found input variables with inconsistent numbers of samples: %r\"\u001b[0m\u001b[1;33m\u001b[0m\u001b[1;33m\u001b[0m\u001b[0m\n\u001b[0;32m    333\u001b[0m             \u001b[1;33m%\u001b[0m \u001b[1;33m[\u001b[0m\u001b[0mint\u001b[0m\u001b[1;33m(\u001b[0m\u001b[0ml\u001b[0m\u001b[1;33m)\u001b[0m \u001b[1;32mfor\u001b[0m \u001b[0ml\u001b[0m \u001b[1;32min\u001b[0m \u001b[0mlengths\u001b[0m\u001b[1;33m]\u001b[0m\u001b[1;33m\u001b[0m\u001b[1;33m\u001b[0m\u001b[0m\n",
      "\u001b[1;31mValueError\u001b[0m: Found input variables with inconsistent numbers of samples: [99, 100]"
     ]
    }
   ],
   "source": [
    "def getLabelArrays(hour, input_sequence_length=lookback):\n",
    "    syncindex = input_sequence_length + hour - 1\n",
    "    yTestPred = model.predict(test_dataset, verbose=0)\n",
    "    ypredFull = yTestPred[:windowSize, hour - 1, :, :]\n",
    "    yactualFull = Ytest[syncindex : windowSize + syncindex :, :]\n",
    "\n",
    "    mae1 = mean_absolute_error(ypredFull[:, :, 0], yactualFull[:, :, 0])\n",
    "    mae2 = mean_absolute_error(ypredFull[:, :, 1], yactualFull[:, :, 1])\n",
    "\n",
    "    time = testTimes[syncindex : windowSize + syncindex :]\n",
    "    return ypredFull, yactualFull, mae1, mae2, time\n",
    "\n",
    "\n",
    "def plotComparison(airport_index, hour):\n",
    "    ypredFull, yactualFull, _, _, time = getLabelArrays(hour)\n",
    "    fig, axs = plt.subplots(2, 1, sharex=True, num=airport_index)\n",
    "    axs[0].plot(\n",
    "        time, yactualFull[:, 0 + airport_index, 0], label=\"Actual Arrival Delay\"\n",
    "    )\n",
    "    axs[1].plot(time, yactualFull[:, airport_index, 1], label=\"Actual Departure Delay\")\n",
    "    axs[0].plot(\n",
    "        time, ypredFull[:, 0 + airport_index, 0], label=\"Predicted Arrival Delay\"\n",
    "    )\n",
    "    axs[1].plot(time, ypredFull[:, airport_index, 1], label=\"Predicted Departure Delay\")\n",
    "    axs[0].legend()\n",
    "    # axs[1].legend()\n",
    "    axs[1].set_xlabel(\"Time (hours)\")\n",
    "    axs[0].set_ylabel(\"Arrival Delay (mins)\")\n",
    "    axs[1].set_ylabel(\"Departure Delay (mins)\")\n",
    "    plt.suptitle(\n",
    "        f\"Comparison for: {airports[airport_index]}. Forward: {hour}h, Backward: {lookback}h\"\n",
    "    )\n",
    "    axs[1].xaxis.set_major_locator(mdates.HourLocator(interval=6))\n",
    "    axs[1].xaxis.set_major_formatter(mdates.DateFormatter(\"%H-%M\"))\n",
    "    plt.xticks(rotation=45)\n",
    "\n",
    "\n",
    "def plotMAEOverTime(forecast_horizon=forecast_horizon):\n",
    "    hours = list(range(1, forecast_horizon + 1))\n",
    "    maeList = []\n",
    "    maeList2 = []\n",
    "    for h in hours:\n",
    "        _, _, mae1, mae2, _ = getLabelArrays(h)\n",
    "        maeList.append(mae1)\n",
    "        maeList2.append(mae2)\n",
    "    plt.plot(hours, maeList)\n",
    "    plt.plot(hours, maeList2)\n",
    "    plt.xlabel(\"Look forward (hours)\")\n",
    "    plt.ylabel(\"MAE (minutes)\")\n",
    "\n",
    "\n",
    "plotMAEOverTime()\n",
    "plt.show()\n",
    "\n",
    "for airportidx in range(0, len(airports)):\n",
    "    plotComparison(airportidx, hour)\n",
    "# plt.show()\n"
   ]
  },
  {
   "cell_type": "code",
   "execution_count": null,
   "metadata": {},
   "outputs": [],
   "source": []
  }
 ],
 "metadata": {
  "interpreter": {
   "hash": "5a8b8190b409df59d083e48feca7ac41a34361ff0d7727e2b40e3d45f8724b63"
  },
  "kernelspec": {
   "display_name": "Python 3.9.1 64-bit",
   "language": "python",
   "name": "python3"
  },
  "language_info": {
   "codemirror_mode": {
    "name": "ipython",
    "version": 3
   },
   "file_extension": ".py",
   "mimetype": "text/x-python",
   "name": "python",
   "nbconvert_exporter": "python",
   "pygments_lexer": "ipython3",
   "version": "3.9.1"
  },
  "orig_nbformat": 4
 },
 "nbformat": 4,
 "nbformat_minor": 2
}
