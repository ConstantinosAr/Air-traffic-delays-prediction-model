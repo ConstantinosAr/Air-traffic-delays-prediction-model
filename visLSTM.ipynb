{
 "cells": [
  {
   "cell_type": "code",
   "execution_count": 1,
   "metadata": {},
   "outputs": [],
   "source": [
    "import pandas as pd"
   ]
  },
  {
   "cell_type": "code",
   "execution_count": null,
   "metadata": {},
   "outputs": [],
   "source": [
    "def plotComparison(airport_index, hour):\n",
    "    # ypredFull, yactualFull, _, _, _, _, _, _, time = getLabelArrays(hour)\n",
    "    fig, axs = plt.subplots(2, 1, sharex=True, num=airport_index)\n",
    "    axs[0].plot(\n",
    "        time, yactualFull[:, 0 + airport_index, 0], label=\"Actual Arrival Delay\"\n",
    "    )\n",
    "    axs[1].plot(time, yactualFull[:, airport_index, 1], label=\"Actual Departure Delay\")\n",
    "    axs[0].plot(\n",
    "        time, ypredFull[:, 0 + airport_index, 0], label=\"Predicted Arrival Delay\"\n",
    "    )\n",
    "    axs[1].plot(time, ypredFull[:, airport_index, 1], label=\"Predicted Departure Delay\")\n",
    "    axs[0].legend()\n",
    "    # axs[1].legend()\n",
    "    axs[1].set_xlabel(\"Time (hours)\")\n",
    "    axs[0].set_ylabel(\"Arrival Delay (mins)\")\n",
    "    axs[1].set_ylabel(\"Departure Delay (mins)\")\n",
    "    plt.suptitle(\n",
    "        f\"Comparison for: {airports[airport_index]}. Forward: {hour}h, Backward: {input_sequence_length}h\"\n",
    "    )\n",
    "    axs[1].xaxis.set_major_locator(mdates.HourLocator(interval=6))\n",
    "    axs[1].xaxis.set_major_formatter(mdates.DateFormatter(\"%H-%M\"))\n",
    "    plt.xticks(rotation=45)"
   ]
  }
 ],
 "metadata": {
  "interpreter": {
   "hash": "a906fffd0068e70e9fb80d992d8da3d10a7e052a8ae415c1855a00961817ff15"
  },
  "kernelspec": {
   "display_name": "Python 3.9.6 64-bit",
   "language": "python",
   "name": "python3"
  },
  "language_info": {
   "codemirror_mode": {
    "name": "ipython",
    "version": 3
   },
   "file_extension": ".py",
   "mimetype": "text/x-python",
   "name": "python",
   "nbconvert_exporter": "python",
   "pygments_lexer": "ipython3",
   "version": "3.9.6"
  },
  "orig_nbformat": 4
 },
 "nbformat": 4,
 "nbformat_minor": 2
}
