{
 "cells": [
  {
   "cell_type": "code",
   "execution_count": 65,
   "metadata": {},
   "outputs": [],
   "source": [
    "import numpy as np\n",
    "import pandas as pd\n",
    "import matplotlib.pyplot as plt\n",
    "from tensorflow import keras\n",
    "from tensorflow.keras import layers\n",
    "from sklearn.preprocessing import MinMaxScaler, OrdinalEncoder"
   ]
  },
  {
   "cell_type": "code",
   "execution_count": 12,
   "metadata": {},
   "outputs": [],
   "source": [
    "dform = \"%Y-%m-%d %H:%M:%S\"\n",
    "fullfilename = r'C:\\Users\\Trez\\Desktop\\Air-traffic-delays-prediction-model\\MNIST\\generalEHAMCap.csv'\n",
    "P = pd.read_csv(fullfilename, header=0, index_col=0)\n",
    "P = (P.assign(FiledOBT=lambda x: pd.to_datetime(x.FiledOBT, format=dform))\n",
    "        .assign(FiledAT=lambda x: pd.to_datetime(x.FiledAT, format=dform))\n",
    "        .assign(ActualOBT=lambda x: pd.to_datetime(x.ActualOBT, format=dform))\n",
    "        .assign(ActualAT=lambda x: pd.to_datetime(x.ActualAT, format=dform)))"
   ]
  },
  {
   "cell_type": "code",
   "execution_count": 17,
   "metadata": {},
   "outputs": [],
   "source": [
    "airport = \"EHAM\""
   ]
  },
  {
   "cell_type": "code",
   "execution_count": 82,
   "metadata": {},
   "outputs": [
    {
     "name": "stdout",
     "output_type": "stream",
     "text": [
      "(38552, 18)\n",
      "(19284, 18)\n",
      "(19284, 18)\n",
      "Index(['ECTRLID', 'ADEP', 'ADEPLat', 'ADEPLong', 'ADES', 'ADESLat', 'ADESLong',\n",
      "       'FiledOBT', 'FiledAT', 'ActualOBT', 'ActualAT', 'ACType', 'ACOperator',\n",
      "       'FlightType', 'ActualDistanceFlown', 'ArrivalDelay', 'DepartureDelay',\n",
      "       'capacity'],\n",
      "      dtype='object')\n"
     ]
    },
    {
     "name": "stderr",
     "output_type": "stream",
     "text": [
      "C:\\Users\\Trez\\anaconda3\\envs\\captf\\lib\\site-packages\\pandas\\core\\generic.py:5516: SettingWithCopyWarning: \n",
      "A value is trying to be set on a copy of a slice from a DataFrame.\n",
      "Try using .loc[row_indexer,col_indexer] = value instead\n",
      "\n",
      "See the caveats in the documentation: https://pandas.pydata.org/pandas-docs/stable/user_guide/indexing.html#returning-a-view-versus-a-copy\n",
      "  self[name] = value\n",
      "C:\\Users\\Trez\\AppData\\Local\\Temp/ipykernel_9204/4024443078.py:16: SettingWithCopyWarning: \n",
      "A value is trying to be set on a copy of a slice from a DataFrame.\n",
      "Try using .loc[row_indexer,col_indexer] = value instead\n",
      "\n",
      "See the caveats in the documentation: https://pandas.pydata.org/pandas-docs/stable/user_guide/indexing.html#returning-a-view-versus-a-copy\n",
      "  Xdepartures[\"FiledOBT\"] = Xdepartures[\"FiledOBT\"].apply(lambda x: x.value)\n"
     ]
    }
   ],
   "source": [
    "print(P.shape)\n",
    "arrivals = P.query(\"ADES == @airport\")\n",
    "departures = P.query(\"ADEP == @airport\")\n",
    "# print(arrivals.head(1))\n",
    "print(arrivals.shape)\n",
    "# print(departures.head(1))\n",
    "print(departures.shape)\n",
    "\n",
    "# departures = departures.assign(FlightType = lambda x: 1 if (x.FlightType == \"Traditional Scheduled\") else 0)\n",
    "departures.FlightType = departures.FlightType.replace(\"Traditional Scheduled\", 1).replace(\"Lowcost\", 0)\n",
    "print(departures.columns)\n",
    "Ydepartures = departures[\"DepartureDelay\"]\n",
    "# Xdepartures = departures[[\"FiledOBT\", \"ADES\", \"FlightType\",\"capacity\",\"ActualDistanceFlown\"]]\n",
    "Xdepartures = departures[[\"FiledOBT\", \"FlightType\",\"capacity\",\"ActualDistanceFlown\"]]\n",
    "# print(Xdepartures)\n",
    "Xdepartures[\"FiledOBT\"] = Xdepartures[\"FiledOBT\"].apply(lambda x: x.value)"
   ]
  },
  {
   "cell_type": "code",
   "execution_count": 85,
   "metadata": {},
   "outputs": [
    {
     "name": "stdout",
     "output_type": "stream",
     "text": [
      "[[0.00247804 1.         0.42105263 0.00675775]\n",
      " [0.00247804 1.         0.42105263 0.00822683]\n",
      " [0.00247804 1.         0.42105263 0.02614955]\n",
      " ...\n",
      " [0.99538184 1.         0.28947368 0.76891435]\n",
      " [0.993467   1.         0.81578947 0.91729102]\n",
      " [0.99515657 1.         0.28947368 0.883943  ]]\n"
     ]
    }
   ],
   "source": [
    "# print(Xdepartures)\n",
    "\n",
    "# print(Xdepartures)\n",
    "# enc = OrdinalEncoder()\n",
    "# enc.fit(Xdepartures[\"ADES\"])\n",
    "\n",
    "# temp = enc.fit_transform(Xdepartures[\"ADES\"].to_numpy())\n",
    "# Xdepartures[\"ADES\"] = pd.DataFrame(temp, columns=[\"ADES\"])\n",
    "scaler = MinMaxScaler()\n",
    "# # minmaxlist = [\"FiledOBT\", \"FlightType\", \"capacity\",\"ActualDistanceFlown\"]\n",
    "thingy = Xdepartures.loc[:,[\"FiledOBT\", \"FlightType\",\"capacity\",\"ActualDistanceFlown\"]]\n",
    "# print(thingy)\n",
    "scaler.fit(thingy)\n",
    "# # print(departures[[\"FlightType\",\"capacity\",\"DepartureDelay\",\"ActualDistanceFlown\"]])\n",
    "temp = scaler.fit_transform(thingy)\n",
    "print(temp)\n",
    "\n",
    "Xdepartures = pd.DataFrame(temp, columns=thingy.columns)\n",
    "# Xdepartures.loc[:,[\"FiledOBT\", \"FlightType\",\"capacity\",\"ActualDistanceFlown\"]] = pd.DataFrame(, columns=thingy.columns)\n",
    "# # print(thingy)"
   ]
  },
  {
   "cell_type": "code",
   "execution_count": 86,
   "metadata": {},
   "outputs": [
    {
     "name": "stdout",
     "output_type": "stream",
     "text": [
      "   FiledOBT  FlightType  capacity  ActualDistanceFlown\n",
      "0  0.002478         1.0  0.421053             0.006758\n",
      "1  0.002478         1.0  0.421053             0.008227\n",
      "2  0.002478         1.0  0.421053             0.026150\n",
      "3  0.002591         1.0  0.421053             0.047451\n",
      "4  0.002816         0.0  0.631579             0.022330\n"
     ]
    }
   ],
   "source": [
    "print(Xdepartures.head())"
   ]
  },
  {
   "cell_type": "code",
   "execution_count": null,
   "metadata": {},
   "outputs": [],
   "source": []
  }
 ],
 "metadata": {
  "interpreter": {
   "hash": "964be1dd93156b15e26a4a058b6f78bac580f6accca5b47405f57dd2f24e941a"
  },
  "kernelspec": {
   "display_name": "Python 3.9.7 64-bit ('captf': conda)",
   "language": "python",
   "name": "python3"
  },
  "language_info": {
   "codemirror_mode": {
    "name": "ipython",
    "version": 3
   },
   "file_extension": ".py",
   "mimetype": "text/x-python",
   "name": "python",
   "nbconvert_exporter": "python",
   "pygments_lexer": "ipython3",
   "version": "3.9.7"
  },
  "orig_nbformat": 4
 },
 "nbformat": 4,
 "nbformat_minor": 2
}
