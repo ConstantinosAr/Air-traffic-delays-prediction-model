{
 "cells": [
  {
   "cell_type": "code",
   "execution_count": null,
   "metadata": {},
   "outputs": [],
   "source": [
    "from graphnn.datasets import *\n",
    "from extraction import *\n",
    "import spektral\n",
    "import pandas as pd\n",
    "import numpy as np\n",
    "import networkx as nx\n",
    "from graphnn.datasets import *\n",
    "from extraction import *\n",
    "\n",
    "# import cartopy.crs as ccrs\n"
   ]
  },
  {
   "cell_type": "code",
   "execution_count": null,
   "metadata": {},
   "outputs": [],
   "source": [
    "airports = ICAOTOP10\n",
    "\n",
    "adjacencies_flights = getAdjacencyMatrix(airports, debug=True)\n",
    "adjacencies_airspace = distance_weight_adjacency(airports, threshold=300)\n",
    "adjacencies = adjacencies_flights + adjacencies_airspace\n"
   ]
  },
  {
   "cell_type": "code",
   "execution_count": null,
   "metadata": {},
   "outputs": [],
   "source": [
    "print(adjacencies_airspace)\n",
    "print(adjacencies_flights[210])\n",
    "print(adjacencies[210])\n",
    "print(adjacencies[415].shape)\n"
   ]
  },
  {
   "cell_type": "code",
   "execution_count": null,
   "metadata": {},
   "outputs": [],
   "source": [
    "graphs = TrafficDataset(airports=airports, timeslotLength=15)\n"
   ]
  },
  {
   "cell_type": "code",
   "execution_count": null,
   "metadata": {},
   "outputs": [],
   "source": [
    "graphs.visualiseGraph(20)\n"
   ]
  }
 ],
 "metadata": {
  "interpreter": {
   "hash": "5a8b8190b409df59d083e48feca7ac41a34361ff0d7727e2b40e3d45f8724b63"
  },
  "kernelspec": {
   "display_name": "Python 3.9.1 64-bit",
   "language": "python",
   "name": "python3"
  },
  "language_info": {
   "codemirror_mode": {
    "name": "ipython",
    "version": 3
   },
   "file_extension": ".py",
   "mimetype": "text/x-python",
   "name": "python",
   "nbconvert_exporter": "python",
   "pygments_lexer": "ipython3",
   "version": "3.9.9"
  },
  "orig_nbformat": 4
 },
 "nbformat": 4,
 "nbformat_minor": 2
}
