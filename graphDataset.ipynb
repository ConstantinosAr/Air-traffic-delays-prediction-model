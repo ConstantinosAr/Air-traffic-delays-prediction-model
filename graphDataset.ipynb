{
 "cells": [
  {
   "cell_type": "code",
   "execution_count": 1,
   "metadata": {},
   "outputs": [],
   "source": [
    "from graphnn.datasets import *\n",
    "from extraction import *\n",
    "import spektral\n",
    "import pandas as pd\n",
    "import numpy as np\n",
    "import networkx as nx\n",
    "from graphnn.datasets import *\n",
    "from extraction import *\n",
    "\n",
    "\n",
    "# import cartopy.crs as ccrs"
   ]
  },
  {
   "cell_type": "code",
   "execution_count": 2,
   "metadata": {},
   "outputs": [
    {
     "name": "stdout",
     "output_type": "stream",
     "text": [
      "['EGLL', 'LFPG', 'EHAM', 'EDDF', 'LEMD', 'LEBL', 'LTFM', 'UUEE', 'EDDM', 'EGKK']\n",
      "ADEP             EGLL  LFPG  EHAM  EDDF  LEMD  LEBL  LTFM  UUEE  EDDM  EGKK\n",
      "2018-03-01 EGLL     0     0     0     0     0     0     0     0     0     0\n",
      "           LFPG     0     0     0     0     0     0     0     0     0     0\n",
      "           EHAM     0     0     0     0     0     0     0     0     0     0\n",
      "           EDDF     0     0     0     0     0     0     0     0     0     0\n",
      "           LEMD     0     0     0     0     0     0     0     0     0     0\n",
      "           LEBL     0     0     0     0     0     0     0     0     0     0\n",
      "           LTFM     0     0     0     0     0     0     0     0     0     0\n",
      "           UUEE     0     0     0     0     0     0     0     0     0     0\n",
      "           EDDM     0     0     0     0     0     0     0     0     0     0\n",
      "           EGKK     0     0     0     0     0     0     0     0     0     0\n",
      "[[0. 0. 0. 0. 0. 0. 0. 0. 0. 0.]\n",
      " [0. 0. 0. 0. 0. 0. 0. 0. 0. 0.]\n",
      " [0. 0. 0. 0. 0. 0. 0. 0. 0. 0.]\n",
      " [0. 0. 0. 0. 0. 0. 0. 0. 0. 0.]\n",
      " [0. 0. 0. 0. 0. 0. 0. 0. 0. 0.]\n",
      " [0. 0. 0. 0. 0. 0. 0. 0. 0. 0.]\n",
      " [0. 0. 0. 0. 0. 0. 0. 0. 0. 0.]\n",
      " [0. 0. 0. 0. 0. 0. 0. 0. 0. 0.]\n",
      " [0. 0. 0. 0. 0. 0. 0. 0. 0. 0.]\n",
      " [0. 0. 0. 0. 0. 0. 0. 0. 0. 0.]]\n",
      "(16080, 10, 10)\n"
     ]
    },
    {
     "name": "stderr",
     "output_type": "stream",
     "text": [
      "c:\\Users\\niels\\OneDrive\\1.TU Delft\\Jaar 3\\!Engineering with AI\\Capstone_project\\Air-traffic-delays-prediction-model\\extraction\\extractadjacency.py:76: RuntimeWarning: invalid value encountered in true_divide\n",
      "  final_matrix = np.divide(A, maximum)\n"
     ]
    }
   ],
   "source": [
    "airports = ICAOTOP10\n",
    "\n",
    "adjacencies getAdjacencyMatrix(airports, debug=True)"
   ]
  },
  {
   "cell_type": "code",
   "execution_count": 7,
   "metadata": {},
   "outputs": [
    {
     "name": "stdout",
     "output_type": "stream",
     "text": [
      "[[0 4 4 0 0 0 0 0 0 0]\n",
      " [2 0 2 4 2 4 0 2 2 0]\n",
      " [2 2 0 2 2 2 0 0 2 0]\n",
      " [0 4 2 0 2 0 0 0 2 0]\n",
      " [0 0 0 0 0 2 0 0 0 0]\n",
      " [0 0 0 0 4 0 0 0 2 0]\n",
      " [0 0 0 0 0 0 0 0 0 0]\n",
      " [0 0 0 0 0 0 0 0 0 0]\n",
      " [0 2 0 0 0 0 0 0 0 0]\n",
      " [0 0 2 0 0 0 0 0 0 0]]\n",
      "[[0.         0.5        0.4        0.         0.         0.\n",
      "  0.         0.         0.         0.        ]\n",
      " [0.33333333 0.         0.33333333 0.66666667 0.33333333 0.5\n",
      "  0.         0.5        0.33333333 0.        ]\n",
      " [0.25       0.33333333 0.         0.33333333 0.5        0.33333333\n",
      "  0.         0.         0.33333333 0.        ]\n",
      " [0.         0.66666667 0.33333333 0.         0.33333333 0.\n",
      "  0.         0.         0.33333333 0.        ]\n",
      " [0.         0.         0.         0.         0.         0.2\n",
      "  0.         0.         0.         0.        ]\n",
      " [0.         0.         0.         0.         0.4        0.\n",
      "  0.         0.         0.5        0.        ]\n",
      " [0.         0.         0.         0.         0.         0.\n",
      "  0.         0.         0.         0.        ]\n",
      " [0.         0.         0.         0.         0.         0.\n",
      "  0.         0.         0.         0.        ]\n",
      " [0.         0.33333333 0.         0.         0.         0.\n",
      "  0.         0.         0.         0.        ]\n",
      " [0.         0.         0.33333333 0.         0.         0.\n",
      "  0.         0.         0.         0.        ]]\n",
      "(10, 10)\n",
      "[[ 0  8 10  6  6  4  4  4  6  2]\n",
      " [ 6  0  6  6  6  8  6  4  6  4]\n",
      " [ 8  6  0  6  4  6  4  4  6  6]\n",
      " [ 8  6  6  0  6  6  4  4  6  2]\n",
      " [ 6  6  4  8  0 10  2  4  6  6]\n",
      " [ 4  6  6  6 10  0  2  4  4  8]\n",
      " [ 4  4  4  4  2  2  0  4  2  2]\n",
      " [ 6  6  4  2  4  4  4  0  2  2]\n",
      " [ 6  6  8  6  4  6  2  2  0  2]\n",
      " [ 2  6  6  0  8  8  2  2  4  0]]\n"
     ]
    }
   ],
   "source": [
    "print(adjacencies[415])\n",
    "print(adjacencies[415].shape)"
   ]
  },
  {
   "cell_type": "code",
   "execution_count": null,
   "metadata": {},
   "outputs": [],
   "source": [
    "graphs = TrafficDataset(airports=airports, timeslotLength=15)"
   ]
  },
  {
   "cell_type": "code",
   "execution_count": null,
   "metadata": {},
   "outputs": [],
   "source": [
    "graphs.visualiseGraph(20)"
   ]
  }
 ],
 "metadata": {
  "interpreter": {
   "hash": "5a8b8190b409df59d083e48feca7ac41a34361ff0d7727e2b40e3d45f8724b63"
  },
  "kernelspec": {
   "display_name": "Python 3.9.1 64-bit",
   "language": "python",
   "name": "python3"
  },
  "language_info": {
   "codemirror_mode": {
    "name": "ipython",
    "version": 3
   },
   "file_extension": ".py",
   "mimetype": "text/x-python",
   "name": "python",
   "nbconvert_exporter": "python",
   "pygments_lexer": "ipython3",
   "version": "3.9.9"
  },
  "orig_nbformat": 4
 },
 "nbformat": 4,
 "nbformat_minor": 2
}
