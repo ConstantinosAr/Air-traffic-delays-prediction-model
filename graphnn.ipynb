{
 "cells": [
  {
   "cell_type": "code",
   "execution_count": null,
   "metadata": {},
   "outputs": [],
   "source": []
  },
  {
   "cell_type": "code",
   "execution_count": null,
   "metadata": {},
   "outputs": [],
   "source": [
    "import numpy as np\n",
    "import tensorflow as tf\n",
    "from tensorflow.keras.callbacks import EarlyStopping\n",
    "from tensorflow.keras.losses import CategoricalCrossentropy\n",
    "from tensorflow.keras.optimizers import Adam\n",
    "# zz\n",
    "\n",
    "\n",
    "import pandas as pd\n"
   ]
  },
  {
   "cell_type": "code",
   "execution_count": null,
   "metadata": {},
   "outputs": [],
   "source": [
    "Load = extractData(start=datetime(2019, 3, 1), end=datetime(2019, 3, 31))\n",
    "print(len(Load))\n",
    "Load.head()\n"
   ]
  },
  {
   "cell_type": "code",
   "execution_count": null,
   "metadata": {},
   "outputs": [],
   "source": [
    "K = filterAirports(Load, ICAOTOP10)\n",
    "K = calculateDelays(K)\n",
    "# print(len(K))\n",
    "K.head()\n"
   ]
  },
  {
   "cell_type": "code",
   "execution_count": null,
   "metadata": {},
   "outputs": [],
   "source": [
    "P = K.drop(\n",
    "    [\n",
    "        \"ACType\",\n",
    "        \"ACOperator\",\n",
    "        \"FlightType\",\n",
    "        \"ActualDistanceFlown\",\n",
    "        \"ECTRLID\",\n",
    "        \"ADEPLat\",\n",
    "        \"ADEPLong\",\n",
    "        \"ADESLat\",\n",
    "        \"ADESLong\",\n",
    "        \"ActualOBT\",\n",
    "        \"ActualAT\",\n",
    "        \"ArrivalDelay\",\n",
    "        \"DepartureDelay\",\n",
    "    ],\n",
    "    axis=1,\n",
    ")\n",
    "P.sort_values(\"FiledOBT\")\n",
    "print(P.head(10))\n",
    "print(P.shape)\n"
   ]
  },
  {
   "cell_type": "code",
   "execution_count": null,
   "metadata": {},
   "outputs": [],
   "source": [
    "dep = P.groupby([pd.Grouper(key=\"FiledOBT\", freq=f\"{15}min\"),]).agg(\n",
    "    {\"ADES\": \"count\"}\n",
    ")  # [\"ADES\"].value_counts().unstack(fill_value=0)\n",
    "dep.head(30)\n",
    "# dep.to_numpy()\n"
   ]
  },
  {
   "cell_type": "code",
   "execution_count": null,
   "metadata": {},
   "outputs": [],
   "source": [
    "arr = P.groupby([ pd.Grouper(key=\"FiledAT\", freq=f\"{60}min\"),\n",
    "                \"ADES\"])[\"ADEP\"].value_counts().unstack(fill_value=0)\n",
    "\n",
    "mux = pd.MultiIndex.from_product([arr.index.get_level_values(\"FiledAT\").unique(), arr.index.get_level_values(\"ADES\").unique()])\n",
    "# df = arr.pd.MultiIndex.sortlevel(level = [\"FiledAT\", \"ADES\"] , ascending= ICAOTOP10     )                      \n",
    "df = arr.reindex(mux)\n",
    "# df.iloc[:][\"ADES\"]\n",
    "\n",
    "a  = (df.sort_index(level=0, ascending=True)\n",
    "        .reindex(sorted(df.columns), axis=1)\n",
    "        .fillna(0))\n",
    "a = a.to_numpy()\n",
    "maximum = np.zeros((10,10))\n",
    "\n",
    "b = [a[i:i+10] for i in range(0,len(a), 10)]\n",
    "b = np.array(b)\n",
    "for i in range(len(a[0])):\n",
    "        for j in range(len(a[0])):\n",
    "                maximum[i][j] = max(b[:,i,j])\n",
    "adj_matrices_demand = np.array([x / maximum for x in b])\n"
   ]
  }
 ],
 "metadata": {
  "language_info": {
   "codemirror_mode": {
    "name": "ipython",
    "version": 3
   },
   "file_extension": ".py",
   "mimetype": "text/x-python",
   "name": "python",
   "nbconvert_exporter": "python",
   "pygments_lexer": "ipython3",
   "version": "3.9.1"
  },
  "orig_nbformat": 4
 },
 "nbformat": 4,
 "nbformat_minor": 2
}
