{
 "cells": [
  {
   "cell_type": "code",
   "execution_count": 18,
   "metadata": {},
   "outputs": [
    {
     "ename": "ImportError",
     "evalue": "cannot import name 'hello' from 'regressionModels.randomForest' (c:\\Users\\niels\\OneDrive\\1.TU Delft\\Jaar 3\\!Engineering with AI\\Capstone_project\\Air-traffic-delays-prediction-model\\regressionModels\\randomForest.py)",
     "output_type": "error",
     "traceback": [
      "\u001b[1;31m---------------------------------------------------------------------------\u001b[0m",
      "\u001b[1;31mImportError\u001b[0m                               Traceback (most recent call last)",
      "\u001b[1;32m~\\AppData\\Local\\Temp/ipykernel_25844/1866077568.py\u001b[0m in \u001b[0;36m<module>\u001b[1;34m\u001b[0m\n\u001b[1;32m----> 1\u001b[1;33m \u001b[1;32mfrom\u001b[0m \u001b[0mregressionModels\u001b[0m\u001b[1;33m.\u001b[0m\u001b[0mrandomForest\u001b[0m \u001b[1;32mimport\u001b[0m \u001b[0mhello\u001b[0m\u001b[1;33m\u001b[0m\u001b[1;33m\u001b[0m\u001b[0m\n\u001b[0m",
      "\u001b[1;31mImportError\u001b[0m: cannot import name 'hello' from 'regressionModels.randomForest' (c:\\Users\\niels\\OneDrive\\1.TU Delft\\Jaar 3\\!Engineering with AI\\Capstone_project\\Air-traffic-delays-prediction-model\\regressionModels\\randomForest.py)"
     ]
    }
   ],
   "source": [
    "from regressionModels.randomForest import hello\n"
   ]
  }
 ],
 "metadata": {
  "interpreter": {
   "hash": "429092806a0fb895d6b3c3cc9fd109f43412e090470031da0a90735cf73e58c6"
  },
  "kernelspec": {
   "display_name": "Python 3.8.12 64-bit ('capstone': conda)",
   "language": "python",
   "name": "python3"
  },
  "language_info": {
   "codemirror_mode": {
    "name": "ipython",
    "version": 3
   },
   "file_extension": ".py",
   "mimetype": "text/x-python",
   "name": "python",
   "nbconvert_exporter": "python",
   "pygments_lexer": "ipython3",
   "version": "3.8.12"
  },
  "orig_nbformat": 4
 },
 "nbformat": 4,
 "nbformat_minor": 2
}
