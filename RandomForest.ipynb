{
 "cells": [
  {
   "cell_type": "code",
   "execution_count": 1,
   "metadata": {},
   "outputs": [],
   "source": [
    "from regressionModels import randomForest\n",
    "from regressionModels import tool_box\n",
    "from extraction.extract import *\n",
    "from extraction.extractionvalues import *\n",
    "from regressionModels.tool_box import *\n",
    "from extraction.airportvalues import *\n",
    "from sklearn.ensemble import RandomForestRegressor\n",
    "from sklearn.model_selection import GridSearchCV\n",
    "from sklearn.model_selection import KFold\n",
    "from sklearn.model_selection import train_test_split\n",
    "from sklearn.metrics import mean_absolute_error\n",
    "from tqdm import tqdm\n",
    "import matplotlib.pyplot as plt\n",
    "from datetime import datetime\n",
    "import pandas as pd\n"
   ]
  },
  {
   "cell_type": "markdown",
   "metadata": {},
   "source": [
    "## Extract data\n",
    "Extract all the data from the Eurocontrol dataset. Then filter out unrelevant data and outliers and save it in a correct way in a csv file. Data will be saved to a new folder called LRData but can be changed. The extracted data will be from the top 50 airports within Europe and a period between 2015 and 2019 by default."
   ]
  },
  {
   "cell_type": "code",
   "execution_count": 2,
   "metadata": {},
   "outputs": [
    {
     "name": "stdout",
     "output_type": "stream",
     "text": [
      "Generating for 50 Airports\n"
     ]
    },
    {
     "name": "stderr",
     "output_type": "stream",
     "text": [
      "100%|██████████| 19/19 [03:17<00:00, 10.42s/it]\n"
     ]
    },
    {
     "name": "stdout",
     "output_type": "stream",
     "text": [
      "    ADEP  ADES            FiledOBT             FiledAT ACType ACOperator  \\\n",
      "0   KORD  EHAM 2015-03-01 00:00:00 2015-03-01 07:34:55   B763        UAL   \n",
      "1   KORD  EGLL 2015-03-01 00:00:00 2015-03-01 07:15:35   B763        UAL   \n",
      "2   KJFK  EGLL 2015-03-01 00:00:00 2015-03-01 06:31:15   B763        DAL   \n",
      "4   KMSP  EGLL 2015-03-01 00:01:00 2015-03-01 07:17:16   B764        DAL   \n",
      "5   KDFW  EGLL 2015-03-01 00:01:00 2015-03-01 07:44:33   B744        BAW   \n",
      "6   KSLC  LFPG 2015-03-01 00:02:00 2015-03-01 09:30:23   B763        DAL   \n",
      "7   LUKK  UUEE 2015-03-01 00:05:00 2015-03-01 01:53:41   A320        AFL   \n",
      "8   OLBA  LFPG 2015-03-01 00:05:00 2015-03-01 04:39:13   A332        MEA   \n",
      "9   OMDB  UKBB 2015-03-01 00:05:00 2015-03-01 05:51:03   B738        AUI   \n",
      "10  LTBA  ORBI 2015-03-01 00:05:00 2015-03-01 02:34:34   B738        IAW   \n",
      "\n",
      "    ArrivalDelay  DepartureDelay   ADEPLat   ADEPLong   ADESLat  ADESLong  \\\n",
      "0           44.0            60.0  41.98000  -87.90500  52.30806   4.76417   \n",
      "1           49.0            22.0  41.98000  -87.90500  51.47750  -0.46139   \n",
      "2           26.0            -3.0  40.64028  -73.77833  51.47750  -0.46139   \n",
      "4           23.0             0.0  44.88500  -93.21500  51.47750  -0.46139   \n",
      "5           22.0            -4.0  32.90000  -97.03333  51.47750  -0.46139   \n",
      "6           22.0             9.0  40.78667 -111.96833  49.00972   2.54778   \n",
      "7          -21.0           -23.0  46.92778   28.93083  55.97250  37.41306   \n",
      "8           -1.0            -1.0  33.81917   35.49000  49.00972   2.54778   \n",
      "9           22.0            11.0  25.24917   55.36000  50.34472  30.89333   \n",
      "10          -3.0            -1.0  40.97611   28.81417  33.26250  44.23444   \n",
      "\n",
      "    month  weekday  filedATminutes  filedOBTminutes  \n",
      "0       3        6             454                0  \n",
      "1       3        6             435                0  \n",
      "2       3        6             391                0  \n",
      "4       3        6             437                1  \n",
      "5       3        6             464                1  \n",
      "6       3        6             570                2  \n",
      "7       3        6             113                5  \n",
      "8       3        6             279                5  \n",
      "9       3        6             351                5  \n",
      "10      3        6             154                5  \n",
      "Size of the dataset = 11062105\n"
     ]
    }
   ],
   "source": [
    "start = datetime(2015, 1, 1)\n",
    "end = datetime(2019, 12, 31)\n",
    "airports = ICAOTOP50\n",
    "print(f\"Generating for {len(airports)} Airports\")\n",
    "\n",
    "a = extractData(start, end)\n",
    "a = linearRegressionFormat(a, airports)\n",
    "saveToCSV(a)\n",
    "\n",
    "print(a.head(10))\n",
    "print(f\"Size of the dataset = {len(a)}\")\n"
   ]
  },
  {
   "cell_type": "markdown",
   "metadata": {},
   "source": [
    "## Encode data\n",
    "\n",
    "This will encode the data. The capacity of the airport per 15 min will be calculated, the categorial features will be encoded and the data will be scaled. The functions returns all relevant features for the airport as X and the labels, the arrival delays as y.\n"
   ]
  },
  {
   "cell_type": "code",
   "execution_count": 3,
   "metadata": {},
   "outputs": [
    {
     "name": "stderr",
     "output_type": "stream",
     "text": [
      "c:\\Users\\niels\\OneDrive\\1.TU Delft\\Jaar 3\\!Engineering with AI\\Capstone_project\\Air-traffic-delays-prediction-model\\regressionModels\\tool_box.py:119: FutureWarning: The pandas.datetime class is deprecated and will be removed from pandas in a future version. Import from datetime module instead.\n",
      "  lambda x: pd.datetime(x.year, x.month, x.day, x.hour, x.minute // 15 * 15, 0)\n"
     ]
    },
    {
     "name": "stdout",
     "output_type": "stream",
     "text": [
      "Size of the dataset = 95101\n"
     ]
    }
   ],
   "source": [
    "X, y = filtering_data_onehot(\n",
    "    filename=\"LRData/LRDATA.csv\",\n",
    "    start=datetime(2018, 1, 1),\n",
    "    end=datetime(2019, 12, 31),\n",
    "    airport=\"EBBR\",\n",
    "    save_to_csv=False,\n",
    ")\n",
    "print(f\"Size of the dataset = {len(y)}\")\n"
   ]
  },
  {
   "cell_type": "markdown",
   "metadata": {},
   "source": [
    "## Run RandomForest Regressor\n",
    "Training and testing the RandomForestregressor. The hyperparamaters are the found optimal paramaters. If data for the requested airport was already saved in data uncomment first line. Otherwise run cell above and leave first line commented"
   ]
  },
  {
   "cell_type": "code",
   "execution_count": 4,
   "metadata": {},
   "outputs": [
    {
     "name": "stdout",
     "output_type": "stream",
     "text": [
      "The mean absolute error = 3.785338678978956\n"
     ]
    }
   ],
   "source": [
    "# X, y = get_preprocessed_data(folderName= \"data\", fileName_x = \"xdata.csv\", fileName_y= \"ydata.csv\",)\n",
    "X_train, X_test, y_train, y_test = train_test_split(\n",
    "    X, y, test_size=0.2, shuffle=True, random_state=42\n",
    ")\n",
    "\n",
    "predictions = {}\n",
    "forest = RandomForestRegressor(\n",
    "    n_estimators=300,\n",
    "    max_features=\"auto\",\n",
    "    max_depth=50,\n",
    "    min_samples_split=10,\n",
    "    min_samples_leaf=2,\n",
    "    bootstrap=True,\n",
    "    n_jobs=-1,\n",
    ")\n",
    "forest.fit(X_train, y_train)\n",
    "prediction = forest.predict(X_test)\n",
    "\n",
    "predictions[\"real\"] = y_test\n",
    "predictions[\"predicted\"] = prediction\n",
    "predictions[\"errors\"] = prediction - y_test\n",
    "score = mean_absolute_error(y_test, prediction)\n",
    "print(f\"The mean absolute error = {score}\")\n"
   ]
  },
  {
   "cell_type": "markdown",
   "metadata": {},
   "source": [
    "## Plot Results"
   ]
  },
  {
   "cell_type": "code",
   "execution_count": 5,
   "metadata": {},
   "outputs": [
    {
     "name": "stdout",
     "output_type": "stream",
     "text": [
      "plotting.....\n"
     ]
    },
    {
     "data": {
      "image/png": "[encoded data removed]",
      "text/plain": [
       "<Figure size 432x432 with 3 Axes>"
      ]
     },
     "metadata": {},
     "output_type": "display_data"
    }
   ],
   "source": [
    "predictions_df = pd.DataFrame.from_dict(predictions)\n",
    "plot(predictions_df, \"real\", \"predicted\")\n"
   ]
  },
  {
   "cell_type": "markdown",
   "metadata": {},
   "source": [
    "## Run on multiple airports\n",
    "Run The Random Forest on selected airports after eachother and save their errors. The errors of the top 50 airports in Europe are already saved to a dictionary called error_dict"
   ]
  },
  {
   "cell_type": "code",
   "execution_count": null,
   "metadata": {},
   "outputs": [],
   "source": [
    "airports = [\"EDDF\", \"LEMD\"]\n",
    "acc_dict = {}\n",
    "for airport in airport_dict:\n",
    "    print(f\"Doing calculations for aiport: {airport}\")\n",
    "    X, y = filtering_data_onehot(\n",
    "        filename=\"LRData/LRDATA.csv\",\n",
    "        start=datetime(2018, 1, 1),\n",
    "        end=datetime(2019, 12, 31),\n",
    "        airport=airport,\n",
    "    )\n",
    "    X_train, X_test, y_train, y_test = train_test_split(\n",
    "        X, y, test_size=0.2, shuffle=True, random_state=42\n",
    "    )\n",
    "    forest = RandomForestRegressor(\n",
    "        n_estimators=300,\n",
    "        max_features=\"auto\",\n",
    "        max_depth=50,\n",
    "        min_samples_split=10,\n",
    "        min_samples_leaf=2,\n",
    "        bootstrap=True,\n",
    "        n_jobs=-1,\n",
    "    )\n",
    "    forest.fit(X_train, y_train)\n",
    "    prediction = forest.predict(X_test)\n",
    "    score = mean_absolute_error(y_test, prediction)\n",
    "    print(f\"Accuracy of {airport} = {score}\")\n",
    "    er_dict[airport] = score\n",
    "    avg_error = sum(er_dict.values()) / len(er_dict)\n",
    "print(f\"Average error = {avg_error}\")\n",
    "\n"
   ]
  },
  {
   "cell_type": "markdown",
   "metadata": {},
   "source": [
    "## Plot errors of all airports\n",
    "Plot the erros of the top 50 airports from Europe. Cell above does not need to be runned.\n",
    "\n"
   ]
  },
  {
   "cell_type": "code",
   "execution_count": null,
   "metadata": {},
   "outputs": [],
   "source": [
    "plot_flightcount_vs_error()\n"
   ]
  }
 ],
 "metadata": {
  "interpreter": {
   "hash": "429092806a0fb895d6b3c3cc9fd109f43412e090470031da0a90735cf73e58c6"
  },
  "kernelspec": {
   "display_name": "Python 3.8.12 64-bit ('capstone': conda)",
   "language": "python",
   "name": "python3"
  },
  "language_info": {
   "codemirror_mode": {
    "name": "ipython",
    "version": 3
   },
   "file_extension": ".py",
   "mimetype": "text/x-python",
   "name": "python",
   "nbconvert_exporter": "python",
   "pygments_lexer": "ipython3",
   "version": "3.8.12"
  },
  "orig_nbformat": 4
 },
 "nbformat": 4,
 "nbformat_minor": 2
}
