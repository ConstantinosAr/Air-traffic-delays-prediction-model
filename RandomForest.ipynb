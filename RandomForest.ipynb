{
 "cells": [
  {
   "cell_type": "code",
   "execution_count": null,
   "metadata": {},
   "outputs": [],
   "source": [
    "from regressionModels import randomForest\n",
    "from regressionModels import tool_box\n",
    "from extraction.extract import *\n",
    "from extraction.extractionvalues import *\n",
    "from regressionModels.tool_box import *\n",
    "from extraction.airportvalues import *\n",
    "from sklearn.ensemble import RandomForestRegressor\n",
    "from sklearn.model_selection import GridSearchCV\n",
    "from sklearn.model_selection import KFold\n",
    "from sklearn.model_selection import train_test_split\n",
    "from sklearn.metrics import mean_absolute_error\n",
    "from tqdm import tqdm\n",
    "import matplotlib.pyplot as plt\n",
    "from datetime import datetime\n",
    "import pandas as pd\n"
   ]
  },
  {
   "cell_type": "markdown",
   "metadata": {},
   "source": [
    "## Extract data\n",
    "Extract all the data from the Eurocontrol dataset. Then filter out unrelevant data and outliers and save it in a correct way in a csv file. Data will be saved to a new folder called LRData but can be changed. The extracted data will be from the top 50 airports within Europe and a period between 2015 and 2019 by default."
   ]
  },
  {
   "cell_type": "code",
   "execution_count": null,
   "metadata": {},
   "outputs": [],
   "source": [
    "start = datetime(2015, 1, 1)\n",
    "end = datetime(2019, 12, 31)\n",
    "airports = ICAOTOP50\n",
    "print(f\"Generating for {len(airports)} Airports\")\n",
    "\n",
    "a = extractData(start, end)\n",
    "a = linearRegressionFormat(a, airports)\n",
    "saveToCSV(a)\n",
    "\n",
    "print(a.head(10))\n",
    "print(f\"Size of the dataset = {len(a)}\")\n"
   ]
  },
  {
   "cell_type": "markdown",
   "metadata": {},
   "source": [
    "## Encode data\n",
    "\n",
    "This will encode the data. The capacity of the airport per 15 min will be calculated, the categorial features will be encoded and the data will be scaled. The functions returns all relevant features for the airport as X and the labels, the arrival delays as y.\n"
   ]
  },
  {
   "cell_type": "code",
   "execution_count": null,
   "metadata": {},
   "outputs": [],
   "source": [
    "X, y = filtering_data_onehot(\n",
    "    filename=\"LRData/LRDATA.csv\",\n",
    "    start=datetime(2018, 1, 1),\n",
    "    end=datetime(2019, 12, 31),\n",
    "    airport=\"EBBR\",\n",
    "    save_to_csv=False,\n",
    ")\n",
    "print(f\"Size of the dataset = {len(y)}\")\n"
   ]
  },
  {
   "cell_type": "markdown",
   "metadata": {},
   "source": [
    "## Run RandomForest Regressor\n",
    "Training and testing the RandomForestregressor. The hyperparamaters are the found optimal paramaters. If data for the requested airport was already saved in data uncomment first line. Otherwise run cell above and leave first line commented"
   ]
  },
  {
   "cell_type": "code",
   "execution_count": null,
   "metadata": {},
   "outputs": [],
   "source": [
    "# X, y = get_preprocessed_data(folderName= \"data\", fileName_x = \"xdata.csv\", fileName_y= \"ydata.csv\",)\n",
    "X_train, X_test, y_train, y_test = train_test_split(\n",
    "    X, y, test_size=0.2, shuffle=True, random_state=42\n",
    ")\n",
    "\n",
    "predictions = {}\n",
    "forest = RandomForestRegressor(\n",
    "    n_estimators=300,\n",
    "    max_features=\"auto\",\n",
    "    max_depth=50,\n",
    "    min_samples_split=10,\n",
    "    min_samples_leaf=2,\n",
    "    bootstrap=True,\n",
    "    n_jobs=-1,\n",
    ")\n",
    "forest.fit(X_train, y_train)\n",
    "prediction = forest.predict(X_test)\n",
    "\n",
    "predictions[\"real\"] = y_test\n",
    "predictions[\"predicted\"] = prediction\n",
    "predictions[\"errors\"] = prediction - y_test\n",
    "score = mean_absolute_error(y_test, prediction)\n",
    "print(f\"The mean absolute error = {score}\")\n"
   ]
  },
  {
   "cell_type": "markdown",
   "metadata": {},
   "source": [
    "## Plot Results"
   ]
  },
  {
   "cell_type": "code",
   "execution_count": null,
   "metadata": {},
   "outputs": [],
   "source": [
    "predictions_df = pd.DataFrame.from_dict(predictions)\n",
    "plot(predictions_df, \"real\", \"predicted\")\n"
   ]
  },
  {
   "cell_type": "markdown",
   "metadata": {},
   "source": [
    "## Run on multiple airports\n",
    "Run The Random Forest on selected airports after eachother and save their errors. The errors of the top 50 airports in Europe are already saved to a dictionary called error_dict"
   ]
  },
  {
   "cell_type": "code",
   "execution_count": null,
   "metadata": {},
   "outputs": [],
   "source": [
    "airports = [\"EDDF\", \"LEMD\"]\n",
    "acc_dict = {}\n",
    "for airport in airport_dict:\n",
    "    print(f\"Doing calculations for aiport: {airport}\")\n",
    "    X, y = filtering_data_onehot(\n",
    "        filename=\"LRData/LRDATA.csv\",\n",
    "        start=datetime(2018, 1, 1),\n",
    "        end=datetime(2019, 12, 31),\n",
    "        airport=airport,\n",
    "    )\n",
    "    X_train, X_test, y_train, y_test = train_test_split(\n",
    "        X, y, test_size=0.2, shuffle=True, random_state=42\n",
    "    )\n",
    "    forest = RandomForestRegressor(\n",
    "        n_estimators=300,\n",
    "        max_features=\"auto\",\n",
    "        max_depth=50,\n",
    "        min_samples_split=10,\n",
    "        min_samples_leaf=2,\n",
    "        bootstrap=True,\n",
    "        n_jobs=-1,\n",
    "    )\n",
    "    forest.fit(X_train, y_train)\n",
    "    prediction = forest.predict(X_test)\n",
    "    score = mean_absolute_error(y_test, prediction)\n",
    "    print(f\"Accuracy of {airport} = {score}\")\n",
    "    er_dict[airport] = score\n",
    "    avg_error = sum(er_dict.values()) / len(er_dict)\n",
    "print(f\"Average error = {avg_error}\")\n",
    "\n"
   ]
  },
  {
   "cell_type": "markdown",
   "metadata": {},
   "source": [
    "## Plot errors of all airports\n",
    "Plot the erros of the top 50 airports from Europe. Cell above does not need to be runned.\n",
    "\n"
   ]
  },
  {
   "cell_type": "code",
   "execution_count": null,
   "metadata": {},
   "outputs": [],
   "source": [
    "plot_flightcount_vs_error()\n"
   ]
  }
 ],
 "metadata": {
  "interpreter": {
   "hash": "429092806a0fb895d6b3c3cc9fd109f43412e090470031da0a90735cf73e58c6"
  },
  "kernelspec": {
   "display_name": "Python 3.8.12 64-bit ('capstone': conda)",
   "language": "python",
   "name": "python3"
  },
  "language_info": {
   "codemirror_mode": {
    "name": "ipython",
    "version": 3
   },
   "file_extension": ".py",
   "mimetype": "text/x-python",
   "name": "python",
   "nbconvert_exporter": "python",
   "pygments_lexer": "ipython3",
   "version": "3.8.12"
  },
  "orig_nbformat": 4
 },
 "nbformat": 4,
 "nbformat_minor": 2
}
